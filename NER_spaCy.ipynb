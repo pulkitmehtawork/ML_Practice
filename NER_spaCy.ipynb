{
  "nbformat": 4,
  "nbformat_minor": 0,
  "metadata": {
    "kernelspec": {
      "display_name": "Python 3",
      "language": "python",
      "name": "python3"
    },
    "language_info": {
      "codemirror_mode": {
        "name": "ipython",
        "version": 3
      },
      "file_extension": ".py",
      "mimetype": "text/x-python",
      "name": "python",
      "nbconvert_exporter": "python",
      "pygments_lexer": "ipython3",
      "version": "3.7.1"
    },
    "colab": {
      "name": "NER_spaCy.ipynb",
      "version": "0.3.2",
      "provenance": [],
      "include_colab_link": true
    }
  },
  "cells": [
    {
      "cell_type": "markdown",
      "metadata": {
        "id": "view-in-github",
        "colab_type": "text"
      },
      "source": [
        "<a href=\"https://colab.research.google.com/github/pulkitmehtawork/ML_Practice/blob/master/NER_spaCy.ipynb\" target=\"_parent\"><img src=\"https://colab.research.google.com/assets/colab-badge.svg\" alt=\"Open In Colab\"/></a>"
      ]
    },
    {
      "cell_type": "markdown",
      "metadata": {
        "_uuid": "a5188de248cf334b502219f51021fcd69acb394b",
        "id": "6Nrf1sTlWit9",
        "colab_type": "text"
      },
      "source": [
        "## Named Entity Recognition and POS tagging using spaCy \n",
        "\n",
        "This notebook explains basic text preprocessing, parts-of-speech tagging and named entity recognition using python's library - spaCy\n",
        "\n",
        "### Contents \n",
        "\n",
        "1. About spaCy  \n",
        "2. Installation  \n",
        "3. Dataset Preparation for spaCy  \n",
        "4. Tokenization - Word and Sentences  \n",
        "5. Text Cleaning - Stopwords, Punctuations, Lemmatization  \n",
        "6. Part of Speech Tagging  \n",
        "7. Entity Extraction  \n",
        "8. Noun Phrase Chunking  \n",
        "\n",
        "### 1. About spaCy \n",
        "\n",
        "spaCy is a free, open-source library for advanced Natural Language Processing (NLP) in Python. It's designed specifically for production use and helps you build applications that process and \"understand\" large volumes of text. It can be used to build information extraction or natural language understanding systems, or to pre-process text for deep learning. Following are the key features of spaCy : \n",
        "\n",
        "- Non-destructive tokenization\n",
        "- Named entity recognition\n",
        "- Support for 34+ languages\n",
        "- 13 statistical models for 8 languages\n",
        "- Pre-trained word vectors\n",
        "- Easy deep learning integration\n",
        "- Part-of-speech tagging\n",
        "- Labelled dependency parsing\n",
        "- Syntax-driven sentence segmentation\n",
        "- Built in visualizers for syntax and NER\n",
        "- Convenient string-to-hash mapping\n",
        "- Export to numpy data arrays\n",
        "- Efficient binary serialization\n",
        "- Easy model packaging and deployment\n",
        "- State-of-the-art speed\n",
        "- Robust, rigorously evaluated accuracy  \n",
        "\n",
        "With so many features inbuilt, spaCy is considered as one of the powerful NLP library. \n",
        "\n",
        "### 2. Installation \n",
        "\n",
        "To install spaCy, two steps are required, \n",
        "\n",
        "2.1 Install the spaCy source using pip command\n",
        "\n",
        "    pip install spacy\n",
        "\n",
        "2.2 Download the spacy pre-trained and annotated models  \n",
        "\n",
        "    python -m spacy download en_core_web_sm  \n",
        "    \n",
        "### 3. Dataset Preparation  \n",
        "\n",
        "We first load the required libraries and prepare the data for spaCy usage.  We will load the spacy models (which were downloaded duing the installation step) and create an object \"nlp\". "
      ]
    },
    {
      "cell_type": "code",
      "metadata": {
        "id": "MUuGW_-iWzap",
        "colab_type": "code",
        "colab": {
          "base_uri": "https://localhost:8080/",
          "height": 286
        },
        "outputId": "d1be701f-d7d9-49be-d7c3-a950ea7f489b"
      },
      "source": [
        "!pip install spacy"
      ],
      "execution_count": 1,
      "outputs": [
        {
          "output_type": "stream",
          "text": [
            "Requirement already satisfied: spacy in /usr/local/lib/python3.6/dist-packages (2.1.6)\n",
            "Requirement already satisfied: blis<0.3.0,>=0.2.2 in /usr/local/lib/python3.6/dist-packages (from spacy) (0.2.4)\n",
            "Requirement already satisfied: preshed<2.1.0,>=2.0.1 in /usr/local/lib/python3.6/dist-packages (from spacy) (2.0.1)\n",
            "Requirement already satisfied: wasabi<1.1.0,>=0.2.0 in /usr/local/lib/python3.6/dist-packages (from spacy) (0.2.2)\n",
            "Requirement already satisfied: srsly<1.1.0,>=0.0.6 in /usr/local/lib/python3.6/dist-packages (from spacy) (0.0.7)\n",
            "Requirement already satisfied: cymem<2.1.0,>=2.0.2 in /usr/local/lib/python3.6/dist-packages (from spacy) (2.0.2)\n",
            "Requirement already satisfied: requests<3.0.0,>=2.13.0 in /usr/local/lib/python3.6/dist-packages (from spacy) (2.21.0)\n",
            "Requirement already satisfied: plac<1.0.0,>=0.9.6 in /usr/local/lib/python3.6/dist-packages (from spacy) (0.9.6)\n",
            "Requirement already satisfied: thinc<7.1.0,>=7.0.8 in /usr/local/lib/python3.6/dist-packages (from spacy) (7.0.8)\n",
            "Requirement already satisfied: murmurhash<1.1.0,>=0.28.0 in /usr/local/lib/python3.6/dist-packages (from spacy) (1.0.2)\n",
            "Requirement already satisfied: numpy>=1.15.0 in /usr/local/lib/python3.6/dist-packages (from spacy) (1.16.4)\n",
            "Requirement already satisfied: idna<2.9,>=2.5 in /usr/local/lib/python3.6/dist-packages (from requests<3.0.0,>=2.13.0->spacy) (2.8)\n",
            "Requirement already satisfied: urllib3<1.25,>=1.21.1 in /usr/local/lib/python3.6/dist-packages (from requests<3.0.0,>=2.13.0->spacy) (1.24.3)\n",
            "Requirement already satisfied: certifi>=2017.4.17 in /usr/local/lib/python3.6/dist-packages (from requests<3.0.0,>=2.13.0->spacy) (2019.6.16)\n",
            "Requirement already satisfied: chardet<3.1.0,>=3.0.2 in /usr/local/lib/python3.6/dist-packages (from requests<3.0.0,>=2.13.0->spacy) (3.0.4)\n",
            "Requirement already satisfied: tqdm<5.0.0,>=4.10.0 in /usr/local/lib/python3.6/dist-packages (from thinc<7.1.0,>=7.0.8->spacy) (4.28.1)\n"
          ],
          "name": "stdout"
        }
      ]
    },
    {
      "cell_type": "code",
      "metadata": {
        "id": "4OdSuLOGW3VU",
        "colab_type": "code",
        "colab": {}
      },
      "source": [
        ""
      ],
      "execution_count": 0,
      "outputs": []
    },
    {
      "cell_type": "code",
      "metadata": {
        "id": "uRZtTTxDW3bF",
        "colab_type": "code",
        "colab": {
          "base_uri": "https://localhost:8080/",
          "height": 87
        },
        "outputId": "c17f1352-376f-475f-ae6a-54d58544cc75"
      },
      "source": [
        "!python -m spacy download en_core_web_sm"
      ],
      "execution_count": 3,
      "outputs": [
        {
          "output_type": "stream",
          "text": [
            "Requirement already satisfied: en_core_web_sm==2.1.0 from https://github.com/explosion/spacy-models/releases/download/en_core_web_sm-2.1.0/en_core_web_sm-2.1.0.tar.gz#egg=en_core_web_sm==2.1.0 in /usr/local/lib/python3.6/dist-packages (2.1.0)\n",
            "\u001b[38;5;2m✔ Download and installation successful\u001b[0m\n",
            "You can now load the model via spacy.load('en_core_web_sm')\n"
          ],
          "name": "stdout"
        }
      ]
    },
    {
      "cell_type": "code",
      "metadata": {
        "_cell_guid": "b1076dfc-b9ad-4769-8c92-a6c4dae69d19",
        "_uuid": "8f2839f25d086af736a60e9eeb907d3b93b6e0e5",
        "id": "mA7AoBhDWit_",
        "colab_type": "code",
        "colab": {}
      },
      "source": [
        "import spacy\n",
        "nlp = spacy.load('en_core_web_sm')"
      ],
      "execution_count": 0,
      "outputs": []
    },
    {
      "cell_type": "markdown",
      "metadata": {
        "_uuid": "ff5ed9e9b8ff194c3234c2c7c15d8827108f41bd",
        "id": "6nfgXqbmWiuD",
        "colab_type": "text"
      },
      "source": [
        "Consider that we have a text document obtained the movie plot obtained from wikipedia. "
      ]
    },
    {
      "cell_type": "code",
      "metadata": {
        "_uuid": "19293f77a8fc545bde5281c2cbdccc08c3d42efa",
        "id": "tu_LDKnRWiuE",
        "colab_type": "code",
        "colab": {}
      },
      "source": [
        "doc = \"\"\"Alice follows a large white rabbit down a \"Rabbit-hole\". She finds a tiny door. When she finds a bottle labeled \"Drink me\", she does, and shrinks, but not enough to pass through the door. She then eats something labeled \"Eat me\" and grows larger. She finds a fan when enables her to shrink enough to get into the \"Garden\" and try to get a \"Dog\" to play with her. She enters the \"White Rabbit's tiny House,\" but suddenly resumes her normal size. In order to get out, she has to use the \"magic fan.\"\n",
        "She enters a kitchen, in which there is a cook and a woman holding a baby. She persuades the woman to give her the child and takes the infant outside after the cook starts throwing things around. The baby then turns into a pig and squirms out of her grip. \"The Duchess's Cheshire Cat\" appears and disappears a couple of times to Alice and directs her to the Mad Hatter's \"Mad Tea-Party.\" After a while, she leaves.\n",
        "The Queen invites Alice to join the \"ROYAL PROCESSION\": a parade of marching playing cards and others headed by the White Rabbit. When Alice \"unintentionally offends the Queen\", the latter summons the \"Executioner\". Alice \"boxes the ears\", then flees when all the playing cards come for her. Then she wakes up and realizes it was all a dream.\"\"\""
      ],
      "execution_count": 0,
      "outputs": []
    },
    {
      "cell_type": "markdown",
      "metadata": {
        "_uuid": "ff89553ea717c5b78afdcb5b67431803a560d801",
        "id": "5xgy21lZWiuH",
        "colab_type": "text"
      },
      "source": [
        "Before using the features of spacy,  we need to convert the text document into spacy document using the \"nlp\" object created. "
      ]
    },
    {
      "cell_type": "code",
      "metadata": {
        "_uuid": "f5f4a400882611bccdf41156274559356431a391",
        "id": "-jO_kQvgWiuI",
        "colab_type": "code",
        "outputId": "323d0523-ccd3-48c3-8944-b2557d201a47",
        "colab": {
          "base_uri": "https://localhost:8080/",
          "height": 87
        }
      },
      "source": [
        "spacy_doc = nlp(doc)\n",
        "spacy_doc"
      ],
      "execution_count": 6,
      "outputs": [
        {
          "output_type": "execute_result",
          "data": {
            "text/plain": [
              "Alice follows a large white rabbit down a \"Rabbit-hole\". She finds a tiny door. When she finds a bottle labeled \"Drink me\", she does, and shrinks, but not enough to pass through the door. She then eats something labeled \"Eat me\" and grows larger. She finds a fan when enables her to shrink enough to get into the \"Garden\" and try to get a \"Dog\" to play with her. She enters the \"White Rabbit's tiny House,\" but suddenly resumes her normal size. In order to get out, she has to use the \"magic fan.\"\n",
              "She enters a kitchen, in which there is a cook and a woman holding a baby. She persuades the woman to give her the child and takes the infant outside after the cook starts throwing things around. The baby then turns into a pig and squirms out of her grip. \"The Duchess's Cheshire Cat\" appears and disappears a couple of times to Alice and directs her to the Mad Hatter's \"Mad Tea-Party.\" After a while, she leaves.\n",
              "The Queen invites Alice to join the \"ROYAL PROCESSION\": a parade of marching playing cards and others headed by the White Rabbit. When Alice \"unintentionally offends the Queen\", the latter summons the \"Executioner\". Alice \"boxes the ears\", then flees when all the playing cards come for her. Then she wakes up and realizes it was all a dream."
            ]
          },
          "metadata": {
            "tags": []
          },
          "execution_count": 6
        }
      ]
    },
    {
      "cell_type": "markdown",
      "metadata": {
        "_uuid": "ef17605014a2108c7923b0147520c51c2856a5cf",
        "id": "YbLXjkThWiuP",
        "colab_type": "text"
      },
      "source": [
        "### 4. Tokenization \n",
        "\n",
        "First, we will see how can we perform tokenization at word level and sentence level using spacy. \n",
        "\n",
        "**Word Level Tokenization** : To obtain word tokens, we just need to access the spacy document as list, all the tokens will be obtained. This is because when we converted the document into spacy document, this step was already performed. "
      ]
    },
    {
      "cell_type": "code",
      "metadata": {
        "_uuid": "22c035d9c6f731f6ec0976d4a1e81852d2ae8fbf",
        "id": "M1rlrm6uWiuQ",
        "colab_type": "code",
        "outputId": "9c7ff87c-6578-4e21-9f7e-555994498789",
        "colab": {
          "base_uri": "https://localhost:8080/",
          "height": 87
        }
      },
      "source": [
        "tokens = list(spacy_doc)\n",
        "print (tokens)"
      ],
      "execution_count": 7,
      "outputs": [
        {
          "output_type": "stream",
          "text": [
            "[Alice, follows, a, large, white, rabbit, down, a, \", Rabbit, -, hole, \", ., She, finds, a, tiny, door, ., When, she, finds, a, bottle, labeled, \", Drink, me, \", ,, she, does, ,, and, shrinks, ,, but, not, enough, to, pass, through, the, door, ., She, then, eats, something, labeled, \", Eat, me, \", and, grows, larger, ., She, finds, a, fan, when, enables, her, to, shrink, enough, to, get, into, the, \", Garden, \", and, try, to, get, a, \", Dog, \", to, play, with, her, ., She, enters, the, \", White, Rabbit, 's, tiny, House, ,, \", but, suddenly, resumes, her, normal, size, ., In, order, to, get, out, ,, she, has, to, use, the, \", magic, fan, ., \", \n",
            ", She, enters, a, kitchen, ,, in, which, there, is, a, cook, and, a, woman, holding, a, baby, ., She, persuades, the, woman, to, give, her, the, child, and, takes, the, infant, outside, after, the, cook, starts, throwing, things, around, ., The, baby, then, turns, into, a, pig, and, squirms, out, of, her, grip, ., \", The, Duchess, 's, Cheshire, Cat, \", appears, and, disappears, a, couple, of, times, to, Alice, and, directs, her, to, the, Mad, Hatter, 's, \", Mad, Tea, -, Party, ., \", After, a, while, ,, she, leaves, ., \n",
            ", The, Queen, invites, Alice, to, join, the, \", ROYAL, PROCESSION, \", :, a, parade, of, marching, playing, cards, and, others, headed, by, the, White, Rabbit, ., When, Alice, \", unintentionally, offends, the, Queen, \", ,, the, latter, summons, the, \", Executioner, \", ., Alice, \", boxes, the, ears, \", ,, then, flees, when, all, the, playing, cards, come, for, her, ., Then, she, wakes, up, and, realizes, it, was, all, a, dream, .]\n"
          ],
          "name": "stdout"
        }
      ]
    },
    {
      "cell_type": "markdown",
      "metadata": {
        "_uuid": "1424a33c7c1c1a18a57d7b5f9ad787ca753b620d",
        "id": "OcdXRTWzWiuU",
        "colab_type": "text"
      },
      "source": [
        "Similarly, for **sentence level tokenization**, we can acess the sentences using following syntax. It will give a generator object. \n",
        "\n",
        "    spacy_doc.sents\n"
      ]
    },
    {
      "cell_type": "code",
      "metadata": {
        "_uuid": "2d7d35801f121650c52605acce1872698760c0e9",
        "id": "n2XHkdphWiuV",
        "colab_type": "code",
        "outputId": "355d24ea-53d9-49be-f3c9-83680697b847",
        "colab": {
          "base_uri": "https://localhost:8080/",
          "height": 370
        }
      },
      "source": [
        "for index, sentence in enumerate(spacy_doc.sents):\n",
        "    print (index, sentence)"
      ],
      "execution_count": 8,
      "outputs": [
        {
          "output_type": "stream",
          "text": [
            "0 Alice follows a large white rabbit down a \"Rabbit-hole\".\n",
            "1 She finds a tiny door.\n",
            "2 When she finds a bottle labeled \"Drink me\", she does, and shrinks, but not enough to pass through the door.\n",
            "3 She then eats something labeled \"Eat me\" and grows larger.\n",
            "4 She finds a fan when enables her to shrink enough to get into the \"Garden\" and try to get a \"Dog\" to play with her.\n",
            "5 She enters the \"White Rabbit's tiny House,\" but suddenly resumes her normal size.\n",
            "6 In order to get out, she has to use the \"magic fan.\n",
            "7 \"\n",
            "\n",
            "8 She enters a kitchen, in which there is a cook and a woman holding a baby.\n",
            "9 She persuades the woman to give her the child and takes the infant outside after the cook starts throwing things around.\n",
            "10 The baby then turns into a pig and squirms out of her grip.\n",
            "11 \"\n",
            "12 The Duchess's Cheshire Cat\" appears and disappears a couple of times to Alice and directs her to the Mad Hatter's \"Mad Tea-Party.\n",
            "13 \"\n",
            "14 After a while, she leaves.\n",
            "\n",
            "15 The Queen invites Alice to join the \"ROYAL PROCESSION\": a parade of marching playing cards and others headed by the White Rabbit.\n",
            "16 When Alice \"unintentionally offends the Queen\", the latter summons the \"Executioner\".\n",
            "17 Alice \"boxes the ears\", then flees when all the playing cards come for her.\n",
            "18 Then she wakes up and realizes it was all a dream.\n"
          ],
          "name": "stdout"
        }
      ]
    },
    {
      "cell_type": "markdown",
      "metadata": {
        "_uuid": "02a87ebb83ab84caf5e09602e0e29a7c05c58070",
        "id": "NjtjTeJWWiuc",
        "colab_type": "text"
      },
      "source": [
        "### 5. Text Cleaning \n",
        "\n",
        "In this section, we will see how can we access different properties of tokens produced in spacy object that can be used to remove noise in the text. Different properties of spacy tokens can be viewed using following syntax. "
      ]
    },
    {
      "cell_type": "code",
      "metadata": {
        "_uuid": "cc70b06a5a5a4d073620628e65a9112e9a0f171c",
        "id": "47wlh0vQWiud",
        "colab_type": "code",
        "outputId": "27108d5c-12ee-4239-cb92-c6a35d066592",
        "colab": {
          "base_uri": "https://localhost:8080/",
          "height": 54
        }
      },
      "source": [
        "first_word = tokens[0]\n",
        "print (dir(first_word))"
      ],
      "execution_count": 9,
      "outputs": [
        {
          "output_type": "stream",
          "text": [
            "['_', '__bytes__', '__class__', '__delattr__', '__dir__', '__doc__', '__eq__', '__format__', '__ge__', '__getattribute__', '__gt__', '__hash__', '__init__', '__init_subclass__', '__le__', '__len__', '__lt__', '__ne__', '__new__', '__pyx_vtable__', '__reduce__', '__reduce_ex__', '__repr__', '__setattr__', '__sizeof__', '__str__', '__subclasshook__', '__unicode__', 'ancestors', 'check_flag', 'children', 'cluster', 'conjuncts', 'dep', 'dep_', 'doc', 'ent_id', 'ent_id_', 'ent_iob', 'ent_iob_', 'ent_kb_id', 'ent_kb_id_', 'ent_type', 'ent_type_', 'get_extension', 'has_extension', 'has_vector', 'head', 'i', 'idx', 'is_alpha', 'is_ancestor', 'is_ascii', 'is_bracket', 'is_currency', 'is_digit', 'is_left_punct', 'is_lower', 'is_oov', 'is_punct', 'is_quote', 'is_right_punct', 'is_sent_start', 'is_space', 'is_stop', 'is_title', 'is_upper', 'lang', 'lang_', 'left_edge', 'lefts', 'lemma', 'lemma_', 'lex_id', 'like_email', 'like_num', 'like_url', 'lower', 'lower_', 'n_lefts', 'n_rights', 'nbor', 'norm', 'norm_', 'orth', 'orth_', 'pos', 'pos_', 'prefix', 'prefix_', 'prob', 'rank', 'remove_extension', 'right_edge', 'rights', 'sent', 'sent_start', 'sentiment', 'set_extension', 'shape', 'shape_', 'similarity', 'string', 'subtree', 'suffix', 'suffix_', 'tag', 'tag_', 'text', 'text_with_ws', 'vector', 'vector_norm', 'vocab', 'whitespace_']\n"
          ],
          "name": "stdout"
        }
      ]
    },
    {
      "cell_type": "markdown",
      "metadata": {
        "_uuid": "f24e005b6541dee7fd43b3727c5068ec5347d344",
        "id": "Z_YmKJwYWiug",
        "colab_type": "text"
      },
      "source": [
        "We can see that there are many properties of every token. Let's view some of these properties. "
      ]
    },
    {
      "cell_type": "code",
      "metadata": {
        "_uuid": "5fd15d589c534599763615dd4208c15efc4f9360",
        "id": "_3cWM3oAWiuh",
        "colab_type": "code",
        "outputId": "b30c3093-f052-40a6-df61-3d6db4662dd3",
        "colab": {
          "base_uri": "https://localhost:8080/",
          "height": 101
        }
      },
      "source": [
        "print (\"is_bracket: \", first_word.is_bracket)\n",
        "print (\"like_num: \", first_word.like_num)\n",
        "print (\"right_edge: \", first_word.right_edge)\n",
        "print (\"sentiment: \", first_word.sentiment)\n",
        "print (\"dep_: \", first_word.dep_)"
      ],
      "execution_count": 10,
      "outputs": [
        {
          "output_type": "stream",
          "text": [
            "is_bracket:  False\n",
            "like_num:  False\n",
            "right_edge:  Alice\n",
            "sentiment:  0.0\n",
            "dep_:  nsubj\n"
          ],
          "name": "stdout"
        }
      ]
    },
    {
      "cell_type": "markdown",
      "metadata": {
        "_uuid": "c28c85d904580c205f00022f83e48e520fb4c06b",
        "id": "3jz0towTWium",
        "colab_type": "text"
      },
      "source": [
        "Using these properties, we can infact clean the text data. For example, following code cell shows how to remove the tokens which are punctuations and stopwords, and lemmatize the remaining ones. \n",
        "\n",
        "#### Removal of Punctionation \n",
        "\n",
        "property : is_punct"
      ]
    },
    {
      "cell_type": "code",
      "metadata": {
        "_uuid": "7545e863080f3dac4d617869d7144faac89aacbb",
        "id": "4GLHl4l2Wiun",
        "colab_type": "code",
        "colab": {}
      },
      "source": [
        "tokens = [t for t in tokens if (t.is_punct == False)]"
      ],
      "execution_count": 0,
      "outputs": []
    },
    {
      "cell_type": "code",
      "metadata": {
        "id": "vZVUP5JlWiuq",
        "colab_type": "code",
        "outputId": "993a3d37-6647-40d5-c1c8-c67c029815df",
        "colab": {
          "base_uri": "https://localhost:8080/",
          "height": 87
        }
      },
      "source": [
        "print(tokens)"
      ],
      "execution_count": 12,
      "outputs": [
        {
          "output_type": "stream",
          "text": [
            "[Alice, follows, a, large, white, rabbit, down, a, Rabbit, hole, She, finds, a, tiny, door, When, she, finds, a, bottle, labeled, Drink, me, she, does, and, shrinks, but, not, enough, to, pass, through, the, door, She, then, eats, something, labeled, Eat, me, and, grows, larger, She, finds, a, fan, when, enables, her, to, shrink, enough, to, get, into, the, Garden, and, try, to, get, a, Dog, to, play, with, her, She, enters, the, White, Rabbit, 's, tiny, House, but, suddenly, resumes, her, normal, size, In, order, to, get, out, she, has, to, use, the, magic, fan, \n",
            ", She, enters, a, kitchen, in, which, there, is, a, cook, and, a, woman, holding, a, baby, She, persuades, the, woman, to, give, her, the, child, and, takes, the, infant, outside, after, the, cook, starts, throwing, things, around, The, baby, then, turns, into, a, pig, and, squirms, out, of, her, grip, The, Duchess, 's, Cheshire, Cat, appears, and, disappears, a, couple, of, times, to, Alice, and, directs, her, to, the, Mad, Hatter, 's, Mad, Tea, Party, After, a, while, she, leaves, \n",
            ", The, Queen, invites, Alice, to, join, the, ROYAL, PROCESSION, a, parade, of, marching, playing, cards, and, others, headed, by, the, White, Rabbit, When, Alice, unintentionally, offends, the, Queen, the, latter, summons, the, Executioner, Alice, boxes, the, ears, then, flees, when, all, the, playing, cards, come, for, her, Then, she, wakes, up, and, realizes, it, was, all, a, dream]\n"
          ],
          "name": "stdout"
        }
      ]
    },
    {
      "cell_type": "markdown",
      "metadata": {
        "_uuid": "bdb6f81eb56374bf3e19b49ad1fa1c00efd14646",
        "id": "qnGzQCliWiuu",
        "colab_type": "text"
      },
      "source": [
        "#### Removal of Stopwords \n",
        "\n",
        "property : is_stop"
      ]
    },
    {
      "cell_type": "code",
      "metadata": {
        "_uuid": "d1534ad9d037f87e93e8b14792d029658b3b60b8",
        "id": "NtYBY6hsWiuu",
        "colab_type": "code",
        "colab": {}
      },
      "source": [
        "tokens = [t for t in tokens if (t.is_stop == False)]"
      ],
      "execution_count": 0,
      "outputs": []
    },
    {
      "cell_type": "code",
      "metadata": {
        "id": "1jQYrpIuWiux",
        "colab_type": "code",
        "outputId": "fd0b8f44-1f87-420c-fe7c-7097cd50d3c4",
        "colab": {
          "base_uri": "https://localhost:8080/",
          "height": 87
        }
      },
      "source": [
        "print(tokens)"
      ],
      "execution_count": 14,
      "outputs": [
        {
          "output_type": "stream",
          "text": [
            "[Alice, follows, large, white, rabbit, Rabbit, hole, finds, tiny, door, finds, bottle, labeled, Drink, shrinks, pass, door, eats, labeled, Eat, grows, larger, finds, fan, enables, shrink, Garden, try, Dog, play, enters, White, Rabbit, tiny, House, suddenly, resumes, normal, size, order, use, magic, fan, \n",
            ", enters, kitchen, cook, woman, holding, baby, persuades, woman, child, takes, infant, outside, cook, starts, throwing, things, baby, turns, pig, squirms, grip, Duchess, Cheshire, Cat, appears, disappears, couple, times, Alice, directs, Mad, Hatter, Mad, Tea, Party, leaves, \n",
            ", Queen, invites, Alice, join, ROYAL, PROCESSION, parade, marching, playing, cards, headed, White, Rabbit, Alice, unintentionally, offends, Queen, summons, Executioner, Alice, boxes, ears, flees, playing, cards, come, wakes, realizes, dream]\n"
          ],
          "name": "stdout"
        }
      ]
    },
    {
      "cell_type": "markdown",
      "metadata": {
        "_uuid": "4b049b6af808a51265e6572be13f0f9cd596dce1",
        "id": "-fAOQ8V5Wiu0",
        "colab_type": "text"
      },
      "source": [
        "#### Token lemmatization\n",
        "\n",
        "property : lemma_"
      ]
    },
    {
      "cell_type": "code",
      "metadata": {
        "_uuid": "15879607c719a9d64937e982b6f7990d7d4fa858",
        "id": "gxE87iCIWiu1",
        "colab_type": "code",
        "colab": {}
      },
      "source": [
        "lemmatized_words = [token.lemma_ for token in tokens]"
      ],
      "execution_count": 0,
      "outputs": []
    },
    {
      "cell_type": "code",
      "metadata": {
        "id": "eOgx2P1IWiu5",
        "colab_type": "code",
        "outputId": "4ca8759b-0d3d-44a1-b258-8550c91332ad",
        "colab": {
          "base_uri": "https://localhost:8080/",
          "height": 54
        }
      },
      "source": [
        "print(lemmatized_words)"
      ],
      "execution_count": 16,
      "outputs": [
        {
          "output_type": "stream",
          "text": [
            "['Alice', 'follow', 'large', 'white', 'rabbit', 'rabbit', 'hole', 'find', 'tiny', 'door', 'find', 'bottle', 'label', 'drink', 'shrink', 'pass', 'door', 'eat', 'label', 'eat', 'grow', 'large', 'find', 'fan', 'enable', 'shrink', 'Garden', 'try', 'Dog', 'play', 'enter', 'White', 'Rabbit', 'tiny', 'House', 'suddenly', 'resume', 'normal', 'size', 'order', 'use', 'magic', 'fan', '\\n', 'enter', 'kitchen', 'cook', 'woman', 'hold', 'baby', 'persuade', 'woman', 'child', 'take', 'infant', 'outside', 'cook', 'start', 'throw', 'thing', 'baby', 'turn', 'pig', 'squirm', 'grip', 'Duchess', 'Cheshire', 'Cat', 'appear', 'disappear', 'couple', 'time', 'Alice', 'direct', 'Mad', 'Hatter', 'mad', 'Tea', 'Party', 'leave', '\\n', 'Queen', 'invite', 'Alice', 'join', 'ROYAL', 'procession', 'parade', 'march', 'playing', 'card', 'head', 'White', 'Rabbit', 'Alice', 'unintentionally', 'offend', 'queen', 'summon', 'Executioner', 'Alice', 'box', 'ear', 'flee', 'playing', 'card', 'come', 'wake', 'realize', 'dream']\n"
          ],
          "name": "stdout"
        }
      ]
    },
    {
      "cell_type": "markdown",
      "metadata": {
        "_uuid": "33171ba64381dff231882d20a1107c27bdd63497",
        "id": "k10YTrcrWiu9",
        "colab_type": "text"
      },
      "source": [
        "Finally, we join these lemmatized words to produce a cleaned document. "
      ]
    },
    {
      "cell_type": "code",
      "metadata": {
        "_uuid": "3995204a51a06a3c4239179cd76787c8c648f849",
        "id": "Y5rLwxz-Wiu_",
        "colab_type": "code",
        "outputId": "d053f1e9-9860-4fc4-a79b-0e83119d19ed",
        "colab": {
          "base_uri": "https://localhost:8080/",
          "height": 54
        }
      },
      "source": [
        "cleaned_doc = \" \".join(lemmatized_words)\n",
        "cleaned_doc"
      ],
      "execution_count": 17,
      "outputs": [
        {
          "output_type": "execute_result",
          "data": {
            "text/plain": [
              "'Alice follow large white rabbit rabbit hole find tiny door find bottle label drink shrink pass door eat label eat grow large find fan enable shrink Garden try Dog play enter White Rabbit tiny House suddenly resume normal size order use magic fan \\n enter kitchen cook woman hold baby persuade woman child take infant outside cook start throw thing baby turn pig squirm grip Duchess Cheshire Cat appear disappear couple time Alice direct Mad Hatter mad Tea Party leave \\n Queen invite Alice join ROYAL procession parade march playing card head White Rabbit Alice unintentionally offend queen summon Executioner Alice box ear flee playing card come wake realize dream'"
            ]
          },
          "metadata": {
            "tags": []
          },
          "execution_count": 17
        }
      ]
    },
    {
      "cell_type": "markdown",
      "metadata": {
        "_uuid": "f615632a0b13c95d47f84121d23c0d34de1e6b71",
        "id": "JaH2PtILWivF",
        "colab_type": "text"
      },
      "source": [
        "### 6. Part of Speech Tagging \n",
        "\n",
        "Next, we look at how can we obtain part of speech tag associated with every token. "
      ]
    },
    {
      "cell_type": "code",
      "metadata": {
        "_uuid": "2b7d5c2605cf5109eae6320ac65554d2b16b1644",
        "id": "WZk5X8M_WivG",
        "colab_type": "code",
        "outputId": "1697b294-2207-4c10-e707-a58749e17e3b",
        "colab": {
          "base_uri": "https://localhost:8080/",
          "height": 252
        }
      },
      "source": [
        "for sent in spacy_doc.sents:\n",
        "    for token in sent:\n",
        "        print (\"Token: \", token, \"POS Tag: \", token.pos_)\n",
        "    break"
      ],
      "execution_count": 18,
      "outputs": [
        {
          "output_type": "stream",
          "text": [
            "Token:  Alice POS Tag:  PROPN\n",
            "Token:  follows POS Tag:  VERB\n",
            "Token:  a POS Tag:  DET\n",
            "Token:  large POS Tag:  ADJ\n",
            "Token:  white POS Tag:  ADJ\n",
            "Token:  rabbit POS Tag:  NOUN\n",
            "Token:  down POS Tag:  ADP\n",
            "Token:  a POS Tag:  DET\n",
            "Token:  \" POS Tag:  PUNCT\n",
            "Token:  Rabbit POS Tag:  NOUN\n",
            "Token:  - POS Tag:  PUNCT\n",
            "Token:  hole POS Tag:  PROPN\n",
            "Token:  \" POS Tag:  PUNCT\n",
            "Token:  . POS Tag:  PUNCT\n"
          ],
          "name": "stdout"
        }
      ]
    },
    {
      "cell_type": "markdown",
      "metadata": {
        "_uuid": "08147351cf0926443ffe9cc378ff6e5b19bd752c",
        "id": "LYE8XL8pWivK",
        "colab_type": "text"
      },
      "source": [
        "### 7. Entity Extraction \n",
        "\n",
        "Using pos tags, Spacy can extract entities as well. Let's see how "
      ]
    },
    {
      "cell_type": "code",
      "metadata": {
        "_uuid": "e83c655e87faf9237ff9a2615facb4b7f6788e71",
        "id": "cIp4YC0AWivL",
        "colab_type": "code",
        "outputId": "dbe6f89b-298b-4c57-a854-648ac0be5e3f",
        "colab": {
          "base_uri": "https://localhost:8080/",
          "height": 269
        }
      },
      "source": [
        "for ent in spacy_doc.ents:\n",
        "    if ent.text.strip():\n",
        "        print (\"Entity:\", ent.text, \"(Label:\", ent.label_, \")\")"
      ],
      "execution_count": 19,
      "outputs": [
        {
          "output_type": "stream",
          "text": [
            "Entity: the \"Garden\" (Label: FAC )\n",
            "Entity: a \"Dog (Label: WORK_OF_ART )\n",
            "Entity: the \"White Rabbit's (Label: FAC )\n",
            "Entity: House (Label: ORG )\n",
            "Entity: The Duchess's Cheshire Cat (Label: WORK_OF_ART )\n",
            "Entity: Alice (Label: PERSON )\n",
            "Entity: the Mad Hatter's (Label: ORG )\n",
            "Entity: Mad Tea-Party (Label: WORK_OF_ART )\n",
            "Entity: Queen (Label: PERSON )\n",
            "Entity: Alice (Label: PERSON )\n",
            "Entity: the White Rabbit (Label: ORG )\n",
            "Entity: Alice (Label: PERSON )\n",
            "Entity: Queen (Label: PERSON )\n",
            "Entity: Executioner (Label: WORK_OF_ART )\n",
            "Entity: Alice (Label: PERSON )\n"
          ],
          "name": "stdout"
        }
      ]
    },
    {
      "cell_type": "markdown",
      "metadata": {
        "_uuid": "59dd7fccb08b726db19301621b57da9cf1be87fb",
        "id": "nWH9YBGNWivQ",
        "colab_type": "text"
      },
      "source": [
        "spaCy also provieds a display rendering tool to visualize these entities and their labels. For example : "
      ]
    },
    {
      "cell_type": "code",
      "metadata": {
        "_uuid": "1a9f3bbca09caa15768af47cfa688dbfbd12c800",
        "id": "m0zpgcPhWivR",
        "colab_type": "code",
        "outputId": "26f321c2-3332-456d-d9b0-0ca9b42a2035",
        "colab": {
          "base_uri": "https://localhost:8080/",
          "height": 312
        }
      },
      "source": [
        "spacy.displacy.render(spacy_doc, style='ent', jupyter=True)"
      ],
      "execution_count": 20,
      "outputs": [
        {
          "output_type": "display_data",
          "data": {
            "text/html": [
              "<div class=\"entities\" style=\"line-height: 2.5; direction: ltr\">Alice follows a large white rabbit down a &quot;Rabbit-hole&quot;. She finds a tiny door. When she finds a bottle labeled &quot;Drink me&quot;, she does, and shrinks, but not enough to pass through the door. She then eats something labeled &quot;Eat me&quot; and grows larger. She finds a fan when enables her to shrink enough to get into \n",
              "<mark class=\"entity\" style=\"background: #ddd; padding: 0.45em 0.6em; margin: 0 0.25em; line-height: 1; border-radius: 0.35em; box-decoration-break: clone; -webkit-box-decoration-break: clone\">\n",
              "    the &quot;Garden&quot;\n",
              "    <span style=\"font-size: 0.8em; font-weight: bold; line-height: 1; border-radius: 0.35em; text-transform: uppercase; vertical-align: middle; margin-left: 0.5rem\">FAC</span>\n",
              "</mark>\n",
              " and try to get \n",
              "<mark class=\"entity\" style=\"background: #f0d0ff; padding: 0.45em 0.6em; margin: 0 0.25em; line-height: 1; border-radius: 0.35em; box-decoration-break: clone; -webkit-box-decoration-break: clone\">\n",
              "    a &quot;Dog\n",
              "    <span style=\"font-size: 0.8em; font-weight: bold; line-height: 1; border-radius: 0.35em; text-transform: uppercase; vertical-align: middle; margin-left: 0.5rem\">WORK_OF_ART</span>\n",
              "</mark>\n",
              "&quot; to play with her. She enters \n",
              "<mark class=\"entity\" style=\"background: #ddd; padding: 0.45em 0.6em; margin: 0 0.25em; line-height: 1; border-radius: 0.35em; box-decoration-break: clone; -webkit-box-decoration-break: clone\">\n",
              "    the &quot;White Rabbit's\n",
              "    <span style=\"font-size: 0.8em; font-weight: bold; line-height: 1; border-radius: 0.35em; text-transform: uppercase; vertical-align: middle; margin-left: 0.5rem\">FAC</span>\n",
              "</mark>\n",
              " tiny \n",
              "<mark class=\"entity\" style=\"background: #7aecec; padding: 0.45em 0.6em; margin: 0 0.25em; line-height: 1; border-radius: 0.35em; box-decoration-break: clone; -webkit-box-decoration-break: clone\">\n",
              "    House\n",
              "    <span style=\"font-size: 0.8em; font-weight: bold; line-height: 1; border-radius: 0.35em; text-transform: uppercase; vertical-align: middle; margin-left: 0.5rem\">ORG</span>\n",
              "</mark>\n",
              ",&quot; but suddenly resumes her normal size. In order to get out, she has to use the &quot;magic fan.&quot;</br>She enters a kitchen, in which there is a cook and a woman holding a baby. She persuades the woman to give her the child and takes the infant outside after the cook starts throwing things around. The baby then turns into a pig and squirms out of her grip. &quot;\n",
              "<mark class=\"entity\" style=\"background: #f0d0ff; padding: 0.45em 0.6em; margin: 0 0.25em; line-height: 1; border-radius: 0.35em; box-decoration-break: clone; -webkit-box-decoration-break: clone\">\n",
              "    The Duchess's Cheshire Cat\n",
              "    <span style=\"font-size: 0.8em; font-weight: bold; line-height: 1; border-radius: 0.35em; text-transform: uppercase; vertical-align: middle; margin-left: 0.5rem\">WORK_OF_ART</span>\n",
              "</mark>\n",
              "&quot; appears and disappears a couple of times to \n",
              "<mark class=\"entity\" style=\"background: #aa9cfc; padding: 0.45em 0.6em; margin: 0 0.25em; line-height: 1; border-radius: 0.35em; box-decoration-break: clone; -webkit-box-decoration-break: clone\">\n",
              "    Alice\n",
              "    <span style=\"font-size: 0.8em; font-weight: bold; line-height: 1; border-radius: 0.35em; text-transform: uppercase; vertical-align: middle; margin-left: 0.5rem\">PERSON</span>\n",
              "</mark>\n",
              " and directs her to \n",
              "<mark class=\"entity\" style=\"background: #7aecec; padding: 0.45em 0.6em; margin: 0 0.25em; line-height: 1; border-radius: 0.35em; box-decoration-break: clone; -webkit-box-decoration-break: clone\">\n",
              "    the Mad Hatter's\n",
              "    <span style=\"font-size: 0.8em; font-weight: bold; line-height: 1; border-radius: 0.35em; text-transform: uppercase; vertical-align: middle; margin-left: 0.5rem\">ORG</span>\n",
              "</mark>\n",
              " &quot;\n",
              "<mark class=\"entity\" style=\"background: #f0d0ff; padding: 0.45em 0.6em; margin: 0 0.25em; line-height: 1; border-radius: 0.35em; box-decoration-break: clone; -webkit-box-decoration-break: clone\">\n",
              "    Mad Tea-Party\n",
              "    <span style=\"font-size: 0.8em; font-weight: bold; line-height: 1; border-radius: 0.35em; text-transform: uppercase; vertical-align: middle; margin-left: 0.5rem\">WORK_OF_ART</span>\n",
              "</mark>\n",
              ".&quot; After a while, she leaves.</br>The \n",
              "<mark class=\"entity\" style=\"background: #aa9cfc; padding: 0.45em 0.6em; margin: 0 0.25em; line-height: 1; border-radius: 0.35em; box-decoration-break: clone; -webkit-box-decoration-break: clone\">\n",
              "    Queen\n",
              "    <span style=\"font-size: 0.8em; font-weight: bold; line-height: 1; border-radius: 0.35em; text-transform: uppercase; vertical-align: middle; margin-left: 0.5rem\">PERSON</span>\n",
              "</mark>\n",
              " invites \n",
              "<mark class=\"entity\" style=\"background: #aa9cfc; padding: 0.45em 0.6em; margin: 0 0.25em; line-height: 1; border-radius: 0.35em; box-decoration-break: clone; -webkit-box-decoration-break: clone\">\n",
              "    Alice\n",
              "    <span style=\"font-size: 0.8em; font-weight: bold; line-height: 1; border-radius: 0.35em; text-transform: uppercase; vertical-align: middle; margin-left: 0.5rem\">PERSON</span>\n",
              "</mark>\n",
              " to join the &quot;ROYAL PROCESSION&quot;: a parade of marching playing cards and others headed by \n",
              "<mark class=\"entity\" style=\"background: #7aecec; padding: 0.45em 0.6em; margin: 0 0.25em; line-height: 1; border-radius: 0.35em; box-decoration-break: clone; -webkit-box-decoration-break: clone\">\n",
              "    the White Rabbit\n",
              "    <span style=\"font-size: 0.8em; font-weight: bold; line-height: 1; border-radius: 0.35em; text-transform: uppercase; vertical-align: middle; margin-left: 0.5rem\">ORG</span>\n",
              "</mark>\n",
              ". When \n",
              "<mark class=\"entity\" style=\"background: #aa9cfc; padding: 0.45em 0.6em; margin: 0 0.25em; line-height: 1; border-radius: 0.35em; box-decoration-break: clone; -webkit-box-decoration-break: clone\">\n",
              "    Alice\n",
              "    <span style=\"font-size: 0.8em; font-weight: bold; line-height: 1; border-radius: 0.35em; text-transform: uppercase; vertical-align: middle; margin-left: 0.5rem\">PERSON</span>\n",
              "</mark>\n",
              " &quot;unintentionally offends the \n",
              "<mark class=\"entity\" style=\"background: #aa9cfc; padding: 0.45em 0.6em; margin: 0 0.25em; line-height: 1; border-radius: 0.35em; box-decoration-break: clone; -webkit-box-decoration-break: clone\">\n",
              "    Queen\n",
              "    <span style=\"font-size: 0.8em; font-weight: bold; line-height: 1; border-radius: 0.35em; text-transform: uppercase; vertical-align: middle; margin-left: 0.5rem\">PERSON</span>\n",
              "</mark>\n",
              "&quot;, the latter summons the &quot;\n",
              "<mark class=\"entity\" style=\"background: #f0d0ff; padding: 0.45em 0.6em; margin: 0 0.25em; line-height: 1; border-radius: 0.35em; box-decoration-break: clone; -webkit-box-decoration-break: clone\">\n",
              "    Executioner\n",
              "    <span style=\"font-size: 0.8em; font-weight: bold; line-height: 1; border-radius: 0.35em; text-transform: uppercase; vertical-align: middle; margin-left: 0.5rem\">WORK_OF_ART</span>\n",
              "</mark>\n",
              "&quot;. \n",
              "<mark class=\"entity\" style=\"background: #aa9cfc; padding: 0.45em 0.6em; margin: 0 0.25em; line-height: 1; border-radius: 0.35em; box-decoration-break: clone; -webkit-box-decoration-break: clone\">\n",
              "    Alice\n",
              "    <span style=\"font-size: 0.8em; font-weight: bold; line-height: 1; border-radius: 0.35em; text-transform: uppercase; vertical-align: middle; margin-left: 0.5rem\">PERSON</span>\n",
              "</mark>\n",
              " &quot;boxes the ears&quot;, then flees when all the playing cards come for her. Then she wakes up and realizes it was all a dream.</div>"
            ],
            "text/plain": [
              "<IPython.core.display.HTML object>"
            ]
          },
          "metadata": {
            "tags": []
          }
        }
      ]
    },
    {
      "cell_type": "markdown",
      "metadata": {
        "_uuid": "f8e32bbe29e780e714e0c5fe7f922c083e6401e2",
        "id": "YzAU_qQvWivU",
        "colab_type": "text"
      },
      "source": [
        "### 8. Noun Chunking \n",
        "\n",
        "Similar to entity extraction, one can easily extract noun chunks using spacy. "
      ]
    },
    {
      "cell_type": "code",
      "metadata": {
        "_uuid": "d64187ae275ccd0070809ba232d169bd759f9033",
        "id": "yKNmqsSwWivV",
        "colab_type": "code",
        "outputId": "959a22ed-9eaa-42f6-b338-710d440e3cbf",
        "colab": {
          "base_uri": "https://localhost:8080/",
          "height": 1000
        }
      },
      "source": [
        "for idx, sentence in enumerate(spacy_doc.sents):\n",
        "    for noun in sentence.noun_chunks:\n",
        "        print(f\"sentence {idx+1}, noun chunk '{noun}'\")"
      ],
      "execution_count": 21,
      "outputs": [
        {
          "output_type": "stream",
          "text": [
            "sentence 1, noun chunk 'Alice'\n",
            "sentence 1, noun chunk 'a large white rabbit'\n",
            "sentence 1, noun chunk 'a \"Rabbit-hole'\n",
            "sentence 2, noun chunk 'She'\n",
            "sentence 2, noun chunk 'a tiny door'\n",
            "sentence 3, noun chunk 'she'\n",
            "sentence 3, noun chunk 'a bottle'\n",
            "sentence 3, noun chunk 'me'\n",
            "sentence 3, noun chunk 'she'\n",
            "sentence 3, noun chunk 'shrinks'\n",
            "sentence 3, noun chunk 'the door'\n",
            "sentence 4, noun chunk 'She'\n",
            "sentence 4, noun chunk 'something'\n",
            "sentence 4, noun chunk 'me'\n",
            "sentence 5, noun chunk 'She'\n",
            "sentence 5, noun chunk 'a fan'\n",
            "sentence 5, noun chunk 'her'\n",
            "sentence 5, noun chunk 'the \"Garden'\n",
            "sentence 5, noun chunk 'a \"Dog'\n",
            "sentence 5, noun chunk 'her'\n",
            "sentence 6, noun chunk 'She'\n",
            "sentence 6, noun chunk 'the \"White Rabbit's tiny House'\n",
            "sentence 6, noun chunk 'her normal size'\n",
            "sentence 7, noun chunk 'order'\n",
            "sentence 7, noun chunk 'she'\n",
            "sentence 7, noun chunk 'the \"magic fan'\n",
            "sentence 9, noun chunk 'She'\n",
            "sentence 9, noun chunk 'a kitchen'\n",
            "sentence 9, noun chunk 'a cook'\n",
            "sentence 9, noun chunk 'a woman'\n",
            "sentence 9, noun chunk 'a baby'\n",
            "sentence 10, noun chunk 'She'\n",
            "sentence 10, noun chunk 'the woman'\n",
            "sentence 10, noun chunk 'her'\n",
            "sentence 10, noun chunk 'the child'\n",
            "sentence 10, noun chunk 'the infant'\n",
            "sentence 10, noun chunk 'the cook'\n",
            "sentence 10, noun chunk 'things'\n",
            "sentence 11, noun chunk 'The baby'\n",
            "sentence 11, noun chunk 'a pig'\n",
            "sentence 11, noun chunk 'her grip'\n",
            "sentence 13, noun chunk 'The Duchess's Cheshire Cat'\n",
            "sentence 13, noun chunk 'a couple'\n",
            "sentence 13, noun chunk 'times'\n",
            "sentence 13, noun chunk 'Alice'\n",
            "sentence 13, noun chunk 'her'\n",
            "sentence 13, noun chunk 'the Mad Hatter's \"Mad Tea-Party'\n",
            "sentence 15, noun chunk 'a while'\n",
            "sentence 15, noun chunk 'she'\n",
            "sentence 16, noun chunk 'The Queen'\n",
            "sentence 16, noun chunk 'Alice'\n",
            "sentence 16, noun chunk 'the \"ROYAL PROCESSION'\n",
            "sentence 16, noun chunk 'a parade'\n",
            "sentence 16, noun chunk 'playing cards'\n",
            "sentence 16, noun chunk 'others'\n",
            "sentence 16, noun chunk 'the White Rabbit'\n",
            "sentence 17, noun chunk 'Alice'\n",
            "sentence 17, noun chunk 'the Queen'\n",
            "sentence 17, noun chunk 'the latter summons'\n",
            "sentence 17, noun chunk 'the \"Executioner'\n",
            "sentence 18, noun chunk 'Alice'\n",
            "sentence 18, noun chunk 'the ears'\n",
            "sentence 18, noun chunk 'all the playing cards'\n",
            "sentence 18, noun chunk 'her'\n",
            "sentence 19, noun chunk 'she'\n",
            "sentence 19, noun chunk 'it'\n",
            "sentence 19, noun chunk 'a dream'\n"
          ],
          "name": "stdout"
        }
      ]
    },
    {
      "cell_type": "code",
      "metadata": {
        "id": "ng0mnoDzY2-I",
        "colab_type": "code",
        "colab": {}
      },
      "source": [
        ""
      ],
      "execution_count": 0,
      "outputs": []
    }
  ]
}