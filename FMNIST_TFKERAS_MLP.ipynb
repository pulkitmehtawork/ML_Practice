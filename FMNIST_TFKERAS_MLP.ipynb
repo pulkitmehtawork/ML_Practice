{
  "nbformat": 4,
  "nbformat_minor": 0,
  "metadata": {
    "colab": {
      "name": "FMNIST_TFKERAS_MLP.ipynb",
      "provenance": [],
      "authorship_tag": "ABX9TyOZKRBlWgd5I82Q+bzpVlLy",
      "include_colab_link": true
    },
    "kernelspec": {
      "name": "python3",
      "display_name": "Python 3"
    },
    "accelerator": "GPU"
  },
  "cells": [
    {
      "cell_type": "markdown",
      "metadata": {
        "id": "view-in-github",
        "colab_type": "text"
      },
      "source": [
        "<a href=\"https://colab.research.google.com/github/pulkitmehtawork/ML_Practice/blob/master/FMNIST_TFKERAS_MLP.ipynb\" target=\"_parent\"><img src=\"https://colab.research.google.com/assets/colab-badge.svg\" alt=\"Open In Colab\"/></a>"
      ]
    },
    {
      "cell_type": "code",
      "metadata": {
        "id": "a679T78h2kXl",
        "colab_type": "code",
        "colab": {}
      },
      "source": [
        "# import libraries\n",
        "import tensorflow as tf\n",
        "from tensorflow import keras"
      ],
      "execution_count": 1,
      "outputs": []
    },
    {
      "cell_type": "code",
      "metadata": {
        "id": "FjxHT-yY22eJ",
        "colab_type": "code",
        "colab": {
          "base_uri": "https://localhost:8080/",
          "height": 35
        },
        "outputId": "3a7e7a89-7ffa-4a25-b177-1265151e4070"
      },
      "source": [
        "tf.__version__"
      ],
      "execution_count": 2,
      "outputs": [
        {
          "output_type": "execute_result",
          "data": {
            "application/vnd.google.colaboratory.intrinsic+json": {
              "type": "string"
            },
            "text/plain": [
              "'2.3.0'"
            ]
          },
          "metadata": {
            "tags": []
          },
          "execution_count": 2
        }
      ]
    },
    {
      "cell_type": "code",
      "metadata": {
        "id": "eMj8HGcD2524",
        "colab_type": "code",
        "colab": {
          "base_uri": "https://localhost:8080/",
          "height": 35
        },
        "outputId": "0d0132f2-7e58-48ac-dc90-df33ea9fe5ca"
      },
      "source": [
        "keras.__version__"
      ],
      "execution_count": 3,
      "outputs": [
        {
          "output_type": "execute_result",
          "data": {
            "application/vnd.google.colaboratory.intrinsic+json": {
              "type": "string"
            },
            "text/plain": [
              "'2.4.0'"
            ]
          },
          "metadata": {
            "tags": []
          },
          "execution_count": 3
        }
      ]
    },
    {
      "cell_type": "code",
      "metadata": {
        "id": "O41dC-Jc273Q",
        "colab_type": "code",
        "colab": {
          "base_uri": "https://localhost:8080/",
          "height": 153
        },
        "outputId": "ef06fa79-b411-46cd-e12a-9032328b649c"
      },
      "source": [
        "# Load data\n",
        "\n",
        "fashion_mnist = keras.datasets.fashion_mnist\n",
        "(X_train_full , y_train_full) , (X_test , y_test) = fashion_mnist.load_data()\n",
        "\n"
      ],
      "execution_count": 4,
      "outputs": [
        {
          "output_type": "stream",
          "text": [
            "Downloading data from https://storage.googleapis.com/tensorflow/tf-keras-datasets/train-labels-idx1-ubyte.gz\n",
            "32768/29515 [=================================] - 0s 0us/step\n",
            "Downloading data from https://storage.googleapis.com/tensorflow/tf-keras-datasets/train-images-idx3-ubyte.gz\n",
            "26427392/26421880 [==============================] - 1s 0us/step\n",
            "Downloading data from https://storage.googleapis.com/tensorflow/tf-keras-datasets/t10k-labels-idx1-ubyte.gz\n",
            "8192/5148 [===============================================] - 0s 0us/step\n",
            "Downloading data from https://storage.googleapis.com/tensorflow/tf-keras-datasets/t10k-images-idx3-ubyte.gz\n",
            "4423680/4422102 [==============================] - 0s 0us/step\n"
          ],
          "name": "stdout"
        }
      ]
    },
    {
      "cell_type": "code",
      "metadata": {
        "id": "9IGD-cvm3fWl",
        "colab_type": "code",
        "colab": {
          "base_uri": "https://localhost:8080/",
          "height": 34
        },
        "outputId": "f8bf05d5-0e89-46d0-dfb9-7ebf2eef5763"
      },
      "source": [
        "X_train_full.shape , X_test.shape"
      ],
      "execution_count": 5,
      "outputs": [
        {
          "output_type": "execute_result",
          "data": {
            "text/plain": [
              "((60000, 28, 28), (10000, 28, 28))"
            ]
          },
          "metadata": {
            "tags": []
          },
          "execution_count": 5
        }
      ]
    },
    {
      "cell_type": "code",
      "metadata": {
        "id": "_5YuLfGN3leS",
        "colab_type": "code",
        "colab": {
          "base_uri": "https://localhost:8080/",
          "height": 34
        },
        "outputId": "522879a6-d97d-4459-87f1-b84aec733772"
      },
      "source": [
        "X_train_full.dtype"
      ],
      "execution_count": 6,
      "outputs": [
        {
          "output_type": "execute_result",
          "data": {
            "text/plain": [
              "dtype('uint8')"
            ]
          },
          "metadata": {
            "tags": []
          },
          "execution_count": 6
        }
      ]
    },
    {
      "cell_type": "code",
      "metadata": {
        "id": "ihZoBe_q3qOZ",
        "colab_type": "code",
        "colab": {}
      },
      "source": [
        "# split data into train and valid set & divide by 255 to normalize the data \n",
        "X_valid , X_train = X_train_full[:5000]/255.0 ,X_train_full[5000:]/255.0 \n",
        "y_valid , y_train = y_train_full[:5000] ,y_train_full[5000:]\n",
        "\n",
        "\n",
        "\n"
      ],
      "execution_count": 7,
      "outputs": []
    },
    {
      "cell_type": "code",
      "metadata": {
        "id": "kUB_6TV14kTt",
        "colab_type": "code",
        "colab": {}
      },
      "source": [
        "# list of class names\n",
        "\n",
        "class_names = [\"T-shirt/top\", \"Trouser\", \"Pullover\", \"Dress\", \"Coat\",\n",
        "\"Sandal\", \"Shirt\", \"Sneaker\", \"Bag\", \"Ankle boot\"]"
      ],
      "execution_count": 8,
      "outputs": []
    },
    {
      "cell_type": "code",
      "metadata": {
        "id": "H1gYVEu64rbx",
        "colab_type": "code",
        "colab": {}
      },
      "source": [
        "# Defining Model\n",
        "\n",
        "model = keras.models.Sequential()\n",
        "model.add(keras.layers.Flatten(input_shape = [28,28]))\n",
        "model.add(keras.layers.Dense(300,activation='relu'))\n",
        "model.add(keras.layers.Dense(100,activation='relu'))\n",
        "model.add(keras.layers.Dense(10,activation='softmax'))\n"
      ],
      "execution_count": 9,
      "outputs": []
    },
    {
      "cell_type": "code",
      "metadata": {
        "id": "n_VW4Un_5l2d",
        "colab_type": "code",
        "colab": {}
      },
      "source": [
        "# alternate way to define model \n",
        "# model = keras.models.Sequential([\n",
        "#      keras.layers.Flatten(input_shape = [28,28]),\n",
        "#       keras.layers.Dense(300,activation='relu'),\n",
        "#       keras.layers.Dense(100,activation='relu'),\n",
        "#         keras.layers.Dense(10,activation='softmax')])"
      ],
      "execution_count": 10,
      "outputs": []
    },
    {
      "cell_type": "code",
      "metadata": {
        "id": "2EWjMFZ46Gm6",
        "colab_type": "code",
        "colab": {
          "base_uri": "https://localhost:8080/",
          "height": 289
        },
        "outputId": "43f15178-c566-48be-9424-64197a32d446"
      },
      "source": [
        "#  model summary\n",
        "\n",
        "model.summary()"
      ],
      "execution_count": 11,
      "outputs": [
        {
          "output_type": "stream",
          "text": [
            "Model: \"sequential\"\n",
            "_________________________________________________________________\n",
            "Layer (type)                 Output Shape              Param #   \n",
            "=================================================================\n",
            "flatten (Flatten)            (None, 784)               0         \n",
            "_________________________________________________________________\n",
            "dense (Dense)                (None, 300)               235500    \n",
            "_________________________________________________________________\n",
            "dense_1 (Dense)              (None, 100)               30100     \n",
            "_________________________________________________________________\n",
            "dense_2 (Dense)              (None, 10)                1010      \n",
            "=================================================================\n",
            "Total params: 266,610\n",
            "Trainable params: 266,610\n",
            "Non-trainable params: 0\n",
            "_________________________________________________________________\n"
          ],
          "name": "stdout"
        }
      ]
    },
    {
      "cell_type": "code",
      "metadata": {
        "id": "J56gtUp37TXf",
        "colab_type": "code",
        "colab": {}
      },
      "source": [
        "# Getting model layers and their weights\n",
        "\n",
        "hidden1 = model.layers[1]"
      ],
      "execution_count": 12,
      "outputs": []
    },
    {
      "cell_type": "code",
      "metadata": {
        "id": "xLvLhlID7aO5",
        "colab_type": "code",
        "colab": {
          "base_uri": "https://localhost:8080/",
          "height": 35
        },
        "outputId": "2a0f6ee8-8edf-4f36-d9bd-f8d1117a6dd4"
      },
      "source": [
        "hidden1.name"
      ],
      "execution_count": 13,
      "outputs": [
        {
          "output_type": "execute_result",
          "data": {
            "application/vnd.google.colaboratory.intrinsic+json": {
              "type": "string"
            },
            "text/plain": [
              "'dense'"
            ]
          },
          "metadata": {
            "tags": []
          },
          "execution_count": 13
        }
      ]
    },
    {
      "cell_type": "code",
      "metadata": {
        "id": "uj0Vzmb88GGp",
        "colab_type": "code",
        "colab": {}
      },
      "source": [
        "weights,biases = hidden1.get_weights()"
      ],
      "execution_count": 14,
      "outputs": []
    },
    {
      "cell_type": "code",
      "metadata": {
        "id": "EzFrQvFw8XEC",
        "colab_type": "code",
        "colab": {
          "base_uri": "https://localhost:8080/",
          "height": 34
        },
        "outputId": "d7973ef8-6e30-425c-f89d-7a820fd8cc72"
      },
      "source": [
        "weights.shape , biases.shape"
      ],
      "execution_count": 15,
      "outputs": [
        {
          "output_type": "execute_result",
          "data": {
            "text/plain": [
              "((784, 300), (300,))"
            ]
          },
          "metadata": {
            "tags": []
          },
          "execution_count": 15
        }
      ]
    },
    {
      "cell_type": "code",
      "metadata": {
        "id": "u-xwNfqu8eS2",
        "colab_type": "code",
        "colab": {}
      },
      "source": [
        "# compiling the model to specify the loss function , optimizer to use \n",
        "model.compile(optimizer='sgd',loss = 'sparse_categorical_crossentropy',metrics=['accuracy'])\n"
      ],
      "execution_count": 16,
      "outputs": []
    },
    {
      "cell_type": "code",
      "metadata": {
        "id": "t4Derd7FDDyP",
        "colab_type": "code",
        "colab": {
          "base_uri": "https://localhost:8080/",
          "height": 34
        },
        "outputId": "ba858df4-30b9-4680-ecf0-4f0e8c00c957"
      },
      "source": [
        "X_train.shape , X_valid.shape"
      ],
      "execution_count": 17,
      "outputs": [
        {
          "output_type": "execute_result",
          "data": {
            "text/plain": [
              "((55000, 28, 28), (5000, 28, 28))"
            ]
          },
          "metadata": {
            "tags": []
          },
          "execution_count": 17
        }
      ]
    },
    {
      "cell_type": "code",
      "metadata": {
        "id": "Zt4Qw1BS_mAB",
        "colab_type": "code",
        "colab": {
          "base_uri": "https://localhost:8080/",
          "height": 1000
        },
        "outputId": "5cbbd1fe-9fa1-46ae-9480-1cb3d9ea16bd"
      },
      "source": [
        "# fit the model \n",
        "\n",
        "history = model.fit(X_train,y_train,epochs=30,validation_data=(X_valid,y_valid))\n",
        "\n"
      ],
      "execution_count": 18,
      "outputs": [
        {
          "output_type": "stream",
          "text": [
            "Epoch 1/30\n",
            "1719/1719 [==============================] - 4s 2ms/step - loss: 0.7015 - accuracy: 0.7708 - val_loss: 0.4998 - val_accuracy: 0.8300\n",
            "Epoch 2/30\n",
            "1719/1719 [==============================] - 4s 2ms/step - loss: 0.4847 - accuracy: 0.8316 - val_loss: 0.4671 - val_accuracy: 0.8372\n",
            "Epoch 3/30\n",
            "1719/1719 [==============================] - 4s 2ms/step - loss: 0.4404 - accuracy: 0.8465 - val_loss: 0.4089 - val_accuracy: 0.8606\n",
            "Epoch 4/30\n",
            "1719/1719 [==============================] - 3s 2ms/step - loss: 0.4141 - accuracy: 0.8549 - val_loss: 0.4256 - val_accuracy: 0.8530\n",
            "Epoch 5/30\n",
            "1719/1719 [==============================] - 4s 2ms/step - loss: 0.3942 - accuracy: 0.8613 - val_loss: 0.3848 - val_accuracy: 0.8666\n",
            "Epoch 6/30\n",
            "1719/1719 [==============================] - 4s 2ms/step - loss: 0.3784 - accuracy: 0.8674 - val_loss: 0.3793 - val_accuracy: 0.8660\n",
            "Epoch 7/30\n",
            "1719/1719 [==============================] - 4s 2ms/step - loss: 0.3667 - accuracy: 0.8700 - val_loss: 0.3589 - val_accuracy: 0.8752\n",
            "Epoch 8/30\n",
            "1719/1719 [==============================] - 3s 2ms/step - loss: 0.3553 - accuracy: 0.8725 - val_loss: 0.3539 - val_accuracy: 0.8780\n",
            "Epoch 9/30\n",
            "1719/1719 [==============================] - 4s 2ms/step - loss: 0.3446 - accuracy: 0.8778 - val_loss: 0.3545 - val_accuracy: 0.8780\n",
            "Epoch 10/30\n",
            "1719/1719 [==============================] - 4s 2ms/step - loss: 0.3354 - accuracy: 0.8816 - val_loss: 0.3646 - val_accuracy: 0.8684\n",
            "Epoch 11/30\n",
            "1719/1719 [==============================] - 3s 2ms/step - loss: 0.3271 - accuracy: 0.8834 - val_loss: 0.3323 - val_accuracy: 0.8850\n",
            "Epoch 12/30\n",
            "1719/1719 [==============================] - 3s 2ms/step - loss: 0.3191 - accuracy: 0.8852 - val_loss: 0.3282 - val_accuracy: 0.8844\n",
            "Epoch 13/30\n",
            "1719/1719 [==============================] - 4s 2ms/step - loss: 0.3115 - accuracy: 0.8877 - val_loss: 0.3317 - val_accuracy: 0.8812\n",
            "Epoch 14/30\n",
            "1719/1719 [==============================] - 3s 2ms/step - loss: 0.3048 - accuracy: 0.8913 - val_loss: 0.3392 - val_accuracy: 0.8798\n",
            "Epoch 15/30\n",
            "1719/1719 [==============================] - 4s 2ms/step - loss: 0.2994 - accuracy: 0.8928 - val_loss: 0.3220 - val_accuracy: 0.8842\n",
            "Epoch 16/30\n",
            "1719/1719 [==============================] - 3s 2ms/step - loss: 0.2915 - accuracy: 0.8957 - val_loss: 0.3477 - val_accuracy: 0.8782\n",
            "Epoch 17/30\n",
            "1719/1719 [==============================] - 4s 2ms/step - loss: 0.2868 - accuracy: 0.8968 - val_loss: 0.3349 - val_accuracy: 0.8766\n",
            "Epoch 18/30\n",
            "1719/1719 [==============================] - 4s 2ms/step - loss: 0.2815 - accuracy: 0.8990 - val_loss: 0.3211 - val_accuracy: 0.8844\n",
            "Epoch 19/30\n",
            "1719/1719 [==============================] - 3s 2ms/step - loss: 0.2749 - accuracy: 0.9008 - val_loss: 0.3138 - val_accuracy: 0.8852\n",
            "Epoch 20/30\n",
            "1719/1719 [==============================] - 3s 2ms/step - loss: 0.2701 - accuracy: 0.9026 - val_loss: 0.3077 - val_accuracy: 0.8912\n",
            "Epoch 21/30\n",
            "1719/1719 [==============================] - 3s 2ms/step - loss: 0.2661 - accuracy: 0.9043 - val_loss: 0.3006 - val_accuracy: 0.8960\n",
            "Epoch 22/30\n",
            "1719/1719 [==============================] - 4s 2ms/step - loss: 0.2604 - accuracy: 0.9071 - val_loss: 0.3025 - val_accuracy: 0.8912\n",
            "Epoch 23/30\n",
            "1719/1719 [==============================] - 4s 2ms/step - loss: 0.2572 - accuracy: 0.9074 - val_loss: 0.3069 - val_accuracy: 0.8910\n",
            "Epoch 24/30\n",
            "1719/1719 [==============================] - 4s 2ms/step - loss: 0.2509 - accuracy: 0.9100 - val_loss: 0.3336 - val_accuracy: 0.8808\n",
            "Epoch 25/30\n",
            "1719/1719 [==============================] - 4s 2ms/step - loss: 0.2482 - accuracy: 0.9119 - val_loss: 0.3017 - val_accuracy: 0.8922\n",
            "Epoch 26/30\n",
            "1719/1719 [==============================] - 3s 2ms/step - loss: 0.2437 - accuracy: 0.9125 - val_loss: 0.2987 - val_accuracy: 0.8916\n",
            "Epoch 27/30\n",
            "1719/1719 [==============================] - 4s 2ms/step - loss: 0.2394 - accuracy: 0.9146 - val_loss: 0.2962 - val_accuracy: 0.8944\n",
            "Epoch 28/30\n",
            "1719/1719 [==============================] - 3s 2ms/step - loss: 0.2351 - accuracy: 0.9166 - val_loss: 0.3005 - val_accuracy: 0.8932\n",
            "Epoch 29/30\n",
            "1719/1719 [==============================] - 3s 2ms/step - loss: 0.2311 - accuracy: 0.9174 - val_loss: 0.3000 - val_accuracy: 0.8930\n",
            "Epoch 30/30\n",
            "1719/1719 [==============================] - 4s 2ms/step - loss: 0.2285 - accuracy: 0.9186 - val_loss: 0.2867 - val_accuracy: 0.8986\n"
          ],
          "name": "stdout"
        }
      ]
    },
    {
      "cell_type": "code",
      "metadata": {
        "id": "7xZuP00NABBf",
        "colab_type": "code",
        "colab": {
          "base_uri": "https://localhost:8080/",
          "height": 487
        },
        "outputId": "4c9fda44-d2ae-4e1a-f0e7-b02ba528d394"
      },
      "source": [
        "# plot the losses , accuracy\n",
        "\n",
        "import pandas as pd\n",
        "import matplotlib.pyplot as plt\n",
        "#%matplotlib inline\n",
        "\n",
        "\n",
        "hisotry_loss = pd.DataFrame(history.history)\n",
        "hisotry_loss.plot(figsize = (8,8))\n",
        "plt.grid(True)\n",
        "plt.gca().set_ylim(0,1)\n",
        "plt.show()"
      ],
      "execution_count": 19,
      "outputs": [
        {
          "output_type": "display_data",
          "data": {
            "image/png": "[encoded data removed]",
            "text/plain": [
              "<Figure size 576x576 with 1 Axes>"
            ]
          },
          "metadata": {
            "tags": [],
            "needs_background": "light"
          }
        }
      ]
    },
    {
      "cell_type": "code",
      "metadata": {
        "id": "8H3yc1AJFA6O",
        "colab_type": "code",
        "colab": {
          "base_uri": "https://localhost:8080/",
          "height": 51
        },
        "outputId": "ec615823-e395-48d6-cc79-0c9d9ff4324c"
      },
      "source": [
        "# evaluate it on test set \n",
        "\n",
        "\n",
        "model.evaluate(X_test,y_test)"
      ],
      "execution_count": 20,
      "outputs": [
        {
          "output_type": "stream",
          "text": [
            "313/313 [==============================] - 1s 2ms/step - loss: 64.8253 - accuracy: 0.8475\n"
          ],
          "name": "stdout"
        },
        {
          "output_type": "execute_result",
          "data": {
            "text/plain": [
              "[64.82530975341797, 0.8475000262260437]"
            ]
          },
          "metadata": {
            "tags": []
          },
          "execution_count": 20
        }
      ]
    },
    {
      "cell_type": "code",
      "metadata": {
        "id": "2GbfHMI8HGMW",
        "colab_type": "code",
        "colab": {
          "base_uri": "https://localhost:8080/",
          "height": 105
        },
        "outputId": "07db3839-f97f-41f1-ec3c-da5363757f78"
      },
      "source": [
        "# check predictions on first 3 records of test\n",
        "\n",
        "\n",
        "test  =X_test[:3]\n",
        "y_pred = model.predict_classes(test)\n",
        "# predictions\n",
        "y_pred"
      ],
      "execution_count": 21,
      "outputs": [
        {
          "output_type": "stream",
          "text": [
            "WARNING:tensorflow:From <ipython-input-21-7db52f34192c>:5: Sequential.predict_classes (from tensorflow.python.keras.engine.sequential) is deprecated and will be removed after 2021-01-01.\n",
            "Instructions for updating:\n",
            "Please use instead:* `np.argmax(model.predict(x), axis=-1)`,   if your model does multi-class classification   (e.g. if it uses a `softmax` last-layer activation).* `(model.predict(x) > 0.5).astype(\"int32\")`,   if your model does binary classification   (e.g. if it uses a `sigmoid` last-layer activation).\n"
          ],
          "name": "stdout"
        },
        {
          "output_type": "execute_result",
          "data": {
            "text/plain": [
              "array([9, 2, 1])"
            ]
          },
          "metadata": {
            "tags": []
          },
          "execution_count": 21
        }
      ]
    },
    {
      "cell_type": "code",
      "metadata": {
        "id": "qh0vDUDbIXqr",
        "colab_type": "code",
        "colab": {
          "base_uri": "https://localhost:8080/",
          "height": 34
        },
        "outputId": "a06be92e-520f-467a-a591-8c3ca678e9dc"
      },
      "source": [
        "# actual values\n",
        "y_test[:3]"
      ],
      "execution_count": 22,
      "outputs": [
        {
          "output_type": "execute_result",
          "data": {
            "text/plain": [
              "array([9, 2, 1], dtype=uint8)"
            ]
          },
          "metadata": {
            "tags": []
          },
          "execution_count": 22
        }
      ]
    },
    {
      "cell_type": "code",
      "metadata": {
        "id": "mEnI1jTJIhyx",
        "colab_type": "code",
        "colab": {}
      },
      "source": [
        ""
      ],
      "execution_count": null,
      "outputs": []
    }
  ]
}