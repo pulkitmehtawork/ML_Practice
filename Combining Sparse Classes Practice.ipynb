{
 "cells": [
  {
   "cell_type": "code",
   "execution_count": 1,
   "metadata": {},
   "outputs": [],
   "source": [
    "import pandas as pd\n"
   ]
  },
  {
   "cell_type": "code",
   "execution_count": 2,
   "metadata": {},
   "outputs": [],
   "source": [
    "bm_data = pd.read_csv(\"train_bm.csv\")"
   ]
  },
  {
   "cell_type": "code",
   "execution_count": 4,
   "metadata": {},
   "outputs": [
    {
     "data": {
      "text/plain": [
       "Item_Identifier              1559\n",
       "Item_Weight                   415\n",
       "Item_Fat_Content                5\n",
       "Item_Visibility              7880\n",
       "Item_Type                      16\n",
       "Item_MRP                     5938\n",
       "Outlet_Identifier              10\n",
       "Outlet_Establishment_Year       9\n",
       "Outlet_Size                     3\n",
       "Outlet_Location_Type            3\n",
       "Outlet_Type                     4\n",
       "Item_Outlet_Sales            3493\n",
       "dtype: int64"
      ]
     },
     "execution_count": 4,
     "metadata": {},
     "output_type": "execute_result"
    }
   ],
   "source": [
    "bm_data.nunique()"
   ]
  },
  {
   "cell_type": "code",
   "execution_count": 5,
   "metadata": {},
   "outputs": [
    {
     "data": {
      "text/plain": [
       "FDG33    10\n",
       "FDW13    10\n",
       "NCJ30     9\n",
       "FDW26     9\n",
       "FDW49     9\n",
       "NCQ06     9\n",
       "FDP25     9\n",
       "FDX04     9\n",
       "FDF52     9\n",
       "FDU12     9\n",
       "FDQ40     9\n",
       "NCL31     9\n",
       "FDO19     9\n",
       "NCI54     9\n",
       "FDX31     9\n",
       "FDV60     9\n",
       "FDX20     9\n",
       "NCY18     9\n",
       "DRE49     9\n",
       "NCB18     9\n",
       "FDT07     9\n",
       "DRN47     9\n",
       "FDD38     9\n",
       "FDG09     9\n",
       "FDF56     9\n",
       "NCF42     9\n",
       "FDV38     9\n",
       "FDJ55     8\n",
       "FDK58     8\n",
       "FDO37     8\n",
       "         ..\n",
       "NCS41     2\n",
       "FDM38     2\n",
       "FDU09     2\n",
       "FDM16     2\n",
       "FDA48     2\n",
       "NCC55     2\n",
       "FDB47     2\n",
       "DRG25     2\n",
       "DRL59     2\n",
       "NCW30     2\n",
       "FDU43     2\n",
       "FDD22     2\n",
       "NCV18     2\n",
       "FDZ50     2\n",
       "DRC24     2\n",
       "FDE39     2\n",
       "FDR57     2\n",
       "FDW10     2\n",
       "FDW58     2\n",
       "FDG28     2\n",
       "FDI36     2\n",
       "FDK57     1\n",
       "DRF48     1\n",
       "FDE52     1\n",
       "FDQ60     1\n",
       "FDC23     1\n",
       "FDN52     1\n",
       "FDY43     1\n",
       "FDT35     1\n",
       "FDO33     1\n",
       "Name: Item_Identifier, Length: 1559, dtype: int64"
      ]
     },
     "execution_count": 5,
     "metadata": {},
     "output_type": "execute_result"
    }
   ],
   "source": [
    "bm_data[\"Item_Identifier\"].value_counts()"
   ]
  },
  {
   "cell_type": "code",
   "execution_count": 6,
   "metadata": {},
   "outputs": [],
   "source": [
    "tmp = bm_data[\"Item_Identifier\"].value_counts()\n"
   ]
  },
  {
   "cell_type": "code",
   "execution_count": null,
   "metadata": {},
   "outputs": [],
   "source": []
  },
  {
   "cell_type": "code",
   "execution_count": 12,
   "metadata": {},
   "outputs": [],
   "source": [
    "bm_data[\"Item_Identifier_Counts\"] = bm_data[\"Item_Identifier\"].apply(lambda x:tmp[x])"
   ]
  },
  {
   "cell_type": "code",
   "execution_count": 13,
   "metadata": {},
   "outputs": [
    {
     "data": {
      "text/plain": [
       "0    8\n",
       "1    6\n",
       "2    7\n",
       "3    6\n",
       "4    6\n",
       "Name: (Item_Identifier, Item_Identifier_Counts), dtype: int64"
      ]
     },
     "execution_count": 13,
     "metadata": {},
     "output_type": "execute_result"
    }
   ],
   "source": [
    "bm_data[\"Item_Identifier\",\"Item_Identifier_Counts\"] .head()\n"
   ]
  },
  {
   "cell_type": "code",
   "execution_count": 15,
   "metadata": {},
   "outputs": [
    {
     "name": "stderr",
     "output_type": "stream",
     "text": [
      "C:\\ProgramData\\Anaconda3\\lib\\site-packages\\ipykernel_launcher.py:3: SettingWithCopyWarning: \n",
      "A value is trying to be set on a copy of a slice from a DataFrame\n",
      "\n",
      "See the caveats in the documentation: http://pandas.pydata.org/pandas-docs/stable/indexing.html#indexing-view-versus-copy\n",
      "  This is separate from the ipykernel package so we can avoid doing imports until\n"
     ]
    }
   ],
   "source": [
    "for row in range(len(bm_data[\"Item_Identifier\"])):\n",
    "    if bm_data[\"Item_Identifier_Counts\"][row] <4 :\n",
    "        bm_data[\"Item_Identifier\"][row] = \"other\"\n",
    "        \n",
    "    "
   ]
  },
  {
   "cell_type": "code",
   "execution_count": 16,
   "metadata": {},
   "outputs": [
    {
     "data": {
      "text/plain": [
       "other    418\n",
       "FDW13     10\n",
       "FDG33     10\n",
       "FDG09      9\n",
       "NCB18      9\n",
       "FDX20      9\n",
       "FDW26      9\n",
       "FDX04      9\n",
       "NCY18      9\n",
       "NCL31      9\n",
       "FDF56      9\n",
       "FDP25      9\n",
       "FDV60      9\n",
       "FDU12      9\n",
       "FDW49      9\n",
       "FDX31      9\n",
       "FDF52      9\n",
       "NCJ30      9\n",
       "NCQ06      9\n",
       "FDQ40      9\n",
       "NCI54      9\n",
       "FDO19      9\n",
       "NCF42      9\n",
       "DRE49      9\n",
       "FDV38      9\n",
       "DRN47      9\n",
       "FDD38      9\n",
       "FDT07      9\n",
       "FDI22      8\n",
       "FDR46      8\n",
       "        ... \n",
       "FDC15      4\n",
       "NCT29      4\n",
       "FDW52      4\n",
       "DRC12      4\n",
       "FDC39      4\n",
       "FDV13      4\n",
       "FDV36      4\n",
       "FDU59      4\n",
       "FDI48      4\n",
       "DRI49      4\n",
       "DRH49      4\n",
       "FDV24      4\n",
       "FDP32      4\n",
       "NCC42      4\n",
       "FDW43      4\n",
       "FDJ33      4\n",
       "FDD36      4\n",
       "FDZ02      4\n",
       "NCJ43      4\n",
       "FDW33      4\n",
       "NCW17      4\n",
       "NCV17      4\n",
       "FDK60      4\n",
       "FDD28      4\n",
       "FDE56      4\n",
       "FDT01      4\n",
       "FDP58      4\n",
       "FDR45      4\n",
       "FDR51      4\n",
       "FDL02      4\n",
       "Name: Item_Identifier, Length: 1403, dtype: int64"
      ]
     },
     "execution_count": 16,
     "metadata": {},
     "output_type": "execute_result"
    }
   ],
   "source": [
    " bm_data[\"Item_Identifier\"].value_counts()"
   ]
  },
  {
   "cell_type": "code",
   "execution_count": null,
   "metadata": {},
   "outputs": [],
   "source": []
  }
 ],
 "metadata": {
  "kernelspec": {
   "display_name": "Python 3",
   "language": "python",
   "name": "python3"
  },
  "language_info": {
   "codemirror_mode": {
    "name": "ipython",
    "version": 3
   },
   "file_extension": ".py",
   "mimetype": "text/x-python",
   "name": "python",
   "nbconvert_exporter": "python",
   "pygments_lexer": "ipython3",
   "version": "3.6.5"
  }
 },
 "nbformat": 4,
 "nbformat_minor": 2
}
